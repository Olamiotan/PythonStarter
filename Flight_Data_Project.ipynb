{
  "nbformat": 4,
  "nbformat_minor": 0,
  "metadata": {
    "colab": {
      "name": "Flight Data Project.ipynb",
      "version": "0.3.2",
      "provenance": [],
      "collapsed_sections": [],
      "include_colab_link": true
    },
    "kernelspec": {
      "name": "python3",
      "display_name": "Python 3"
    }
  },
  "cells": [
    {
      "cell_type": "markdown",
      "metadata": {
        "id": "view-in-github",
        "colab_type": "text"
      },
      "source": [
        "<a href=\"https://colab.research.google.com/github/Olamiotan/PythonStarter/blob/master/Flight_Data_Project.ipynb\" target=\"_parent\"><img src=\"https://colab.research.google.com/assets/colab-badge.svg\" alt=\"Open In Colab\"/></a>"
      ]
    },
    {
      "metadata": {
        "id": "EnD6p7sKtJrW",
        "colab_type": "code",
        "colab": {
          "base_uri": "https://localhost:8080/",
          "height": 131
        },
        "outputId": "823cfb1a-4c9d-4a69-aafb-0f5fe02ffabc"
      },
      "cell_type": "code",
      "source": [
        "import pandas as pd\n",
        "\n",
        "flightdata = pd.read_csv('C:\\Users\\Olamiotan\\Desktop\\flight-details.csv', parse_dates=['flight_date'])\n",
        "print(flightdata.sort_values(by='arr_delay', ascending=False))\n",
        "\n",
        "\"\"\"Using lambdas function to find how often delays occur from January 1st-15th\"\"\"\n",
        "flightdata['delayed'] = flightdata['arr_delay'].apply(lambda x: x > 0)\n",
        "delays = flightdata['delayed'].value_counts()\n",
        "print('Delays occured', delays[1], 'times between January 1st and 15th, 2015.')\n",
        "\n",
        "\"\"\"Using value count to find aggregate trends and the percentage of flight delays\"\"\"\n",
        "#Number of flights each carrier flew on each day\n",
        "daily_flight = flightdata.pivot_table(index='flight_date', columns='unique_carrier', values='flight_num', aggfunc='count')\n",
        "print(daily_flight)\n",
        "daily_flight.plot(kind='line', figsize=[16,8], title='Daily flights by each carrier')\n",
        "\n",
        "#Sum of reasons for the flight delay\n",
        "delay_type = ['carrier_delay','weather_delay','late_aircraft_delay','nas_delay','security_delay']\n",
        "daily_delay = flightdata.pivot_table(index='flight_date', values=delay_type, aggfunc='sum')\n",
        "print(daily_delay)\n",
        "daily_delay.plot(kind='line', figsize=[16,8], title='Sum in minutes of different delay reasons')\n",
        "    \n",
        "#Percentage of flight delays\n",
        "delayed_flights = flightdata['delayed'].value_counts()[1]\n",
        "non_delayed_flights = flightdata['delayed']. value_counts()[0]\n",
        "total_flights = delayed_flights + non_delayed_flights\n",
        "delayed_percent = (delayed_flights / total_flights) * 100\n",
        "print(delays)\n",
        "print(round(float(delayed_percent),1), '% of the total flights experienced flight delays.')\n",
        "\n",
        "\n",
        "\"\"\"Using lambda functions to find how many flights were delayed longer than 20 minutes\"\"\"\n",
        "flightdata['20mins_flights_delay'] = flightdata['arr_delay'].apply(lambda x: x > 20)\n",
        "num_of_delays = flightdata['20mins_flights_delay'].value_counts()\n",
        "print(num_of_delays)\n",
        "print('Flights delayed longer than 20 mins: ', num_of_delays[1])\n",
        "\n"
      ],
      "execution_count": 4,
      "outputs": [
        {
          "output_type": "error",
          "ename": "SyntaxError",
          "evalue": "ignored",
          "traceback": [
            "\u001b[0;36m  File \u001b[0;32m\"<ipython-input-4-5f1c4d2e132f>\"\u001b[0;36m, line \u001b[0;32m3\u001b[0m\n\u001b[0;31m    flightdata = pd.read_csv('C:\\Users\\Olamiotan\\Desktop\\flight-details.csv', parse_dates=['flight_date'])\u001b[0m\n\u001b[0m                            ^\u001b[0m\n\u001b[0;31mSyntaxError\u001b[0m\u001b[0;31m:\u001b[0m (unicode error) 'unicodeescape' codec can't decode bytes in position 2-3: truncated \\UXXXXXXXX escape\n"
          ]
        }
      ]
    },
    {
      "metadata": {
        "id": "Qwn8fCDzM2ij",
        "colab_type": "code",
        "colab": {}
      },
      "cell_type": "code",
      "source": [
        ""
      ],
      "execution_count": 0,
      "outputs": []
    }
  ]
}